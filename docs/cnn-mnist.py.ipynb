{
 "cells": [
  {
   "cell_type": "code",
   "execution_count": 1,
   "metadata": {
    "collapsed": true
   },
   "outputs": [],
   "source": [
    "import os\n",
    "os.chdir(\"..\")\n",
    "\n",
    "import tensorflow as tf\n",
    "import numpy as np\n",
    "import matplotlib.pyplot as plt\n",
    "\n",
    "from tutorial import util\n",
    "\n",
    "tf.logging.set_verbosity(tf.logging.ERROR)\n",
    "np.set_printoptions(precision=4)\n",
    "np.set_printoptions(suppress=True)\n",
    "\n",
    "%matplotlib inline"
   ]
  },
  {
   "cell_type": "code",
   "execution_count": 2,
   "metadata": {},
   "outputs": [
    {
     "name": "stdout",
     "output_type": "stream",
     "text": [
      "Extracting MNIST-data/train-images-idx3-ubyte.gz\n",
      "Extracting MNIST-data/train-labels-idx1-ubyte.gz\n",
      "Extracting MNIST-data/t10k-images-idx3-ubyte.gz\n",
      "Extracting MNIST-data/t10k-labels-idx1-ubyte.gz\n"
     ]
    }
   ],
   "source": [
    "mnist = tf.contrib.learn.datasets.load_dataset(\"mnist\")"
   ]
  },
  {
   "cell_type": "code",
   "execution_count": 3,
   "metadata": {},
   "outputs": [],
   "source": [
    "train_data = mnist.train.images\n",
    "train_labels = np.asarray(mnist.train.labels, dtype=np.int32)\n",
    "eval_data = mnist.test.images\n",
    "eval_labels = np.asarray(mnist.test.labels, dtype=np.int32)"
   ]
  },
  {
   "cell_type": "code",
   "execution_count": 4,
   "metadata": {},
   "outputs": [
    {
     "name": "stdout",
     "output_type": "stream",
     "text": [
      "train_data.shape:  (55000, 784)\n",
      "train_labels.shape:  (55000,)\n"
     ]
    }
   ],
   "source": [
    "print('train_data.shape: ', train_data.shape)\n",
    "print('train_labels.shape: ', train_labels.shape)"
   ]
  },
  {
   "cell_type": "code",
   "execution_count": 5,
   "metadata": {},
   "outputs": [
    {
     "name": "stdout",
     "output_type": "stream",
     "text": [
      "category: 7, \n"
     ]
    },
    {
     "data": {
      "image/png": "[encoded data removed]",
      "text/plain": [
       "<matplotlib.figure.Figure at 0x1197fd748>"
      ]
     },
     "metadata": {},
     "output_type": "display_data"
    }
   ],
   "source": [
    "img = train_data[0]\n",
    "img = img.reshape([28, 28]);\n",
    "plt.gray()\n",
    "plt.imshow(img);\n",
    "print('category: %d, ' % (train_labels[0]))"
   ]
  },
  {
   "cell_type": "code",
   "execution_count": 6,
   "metadata": {},
   "outputs": [
    {
     "data": {
      "image/png": "[encoded data removed]",
      "text/plain": [
       "<matplotlib.figure.Figure at 0x1226e1128>"
      ]
     },
     "metadata": {},
     "output_type": "display_data"
    },
    {
     "name": "stdout",
     "output_type": "stream",
     "text": [
      "labels:  [7 2 1 0 4 1 4 9]\n"
     ]
    }
   ],
   "source": [
    "fig=plt.figure(figsize=(12, 2))\n",
    "for i in range(8):\n",
    "    img = eval_data[i].reshape([28,28])\n",
    "    fig.add_subplot(1, 8, i+1)\n",
    "    plt.imshow(img)\n",
    "plt.show()\n",
    "print('labels: ', str(eval_labels[:8]))"
   ]
  },
  {
   "cell_type": "code",
   "execution_count": 7,
   "metadata": {},
   "outputs": [
    {
     "name": "stdout",
     "output_type": "stream",
     "text": [
      "INFO:tensorflow:Using default config.\n",
      "INFO:tensorflow:Using config: {'_model_dir': '/Users/larrysu/repos/totem/model/cnn_mnist_180329_112417_gpu', '_tf_random_seed': None, '_save_summary_steps': 100, '_save_checkpoints_steps': None, '_save_checkpoints_secs': 600, '_session_config': None, '_keep_checkpoint_max': 5, '_keep_checkpoint_every_n_hours': 10000, '_log_step_count_steps': 100, '_service': None, '_cluster_spec': <tensorflow.python.training.server_lib.ClusterSpec object at 0x1226e19e8>, '_task_type': 'worker', '_task_id': 0, '_global_id_in_cluster': 0, '_master': '', '_evaluation_master': '', '_is_chief': True, '_num_ps_replicas': 0, '_num_worker_replicas': 1}\n",
      "INFO:tensorflow:Calling model_fn.\n",
      "INFO:tensorflow:Done calling model_fn.\n",
      "INFO:tensorflow:Graph was finalized.\n",
      "INFO:tensorflow:Restoring parameters from /Users/larrysu/repos/totem/model/cnn_mnist_180329_112417_gpu/model.ckpt-30000\n",
      "INFO:tensorflow:Running local_init_op.\n",
      "INFO:tensorflow:Done running local_init_op.\n"
     ]
    }
   ],
   "source": [
    "from tutorial.cnn_mnist import cnn_model_fn\n",
    "model_dir = '/Users/larrysu/repos/totem/model/cnn_mnist_180329_112417_gpu'\n",
    "mnist_classifier = tf.estimator.Estimator(model_fn=cnn_model_fn, model_dir=model_dir)\n",
    "\n",
    "predict_input_fn = tf.estimator.inputs.numpy_input_fn(\n",
    "        x={\"x\": eval_data[:8]},\n",
    "        num_epochs=1,\n",
    "        shuffle=False)\n",
    "\n",
    "predictions = list(mnist_classifier.predict(input_fn=predict_input_fn))"
   ]
  },
  {
   "cell_type": "code",
   "execution_count": 8,
   "metadata": {},
   "outputs": [
    {
     "data": {
      "image/png": "[encoded data removed]",
      "text/plain": [
       "<matplotlib.figure.Figure at 0x122e897f0>"
      ]
     },
     "metadata": {},
     "output_type": "display_data"
    },
    {
     "name": "stdout",
     "output_type": "stream",
     "text": [
      "labels:  [7 2 1 0 4 1 4 9]\n",
      "      7 ,       2 ,       1 ,       0 ,       4 ,       1 ,       4 ,       9 , \n",
      " 0.9997 ,  0.9996 ,  0.9957 ,  0.9996 ,  0.9968 ,  0.9980 ,  0.9941 ,  0.9792 , "
     ]
    }
   ],
   "source": [
    "fig=plt.figure(figsize=(12, 2))\n",
    "for i in range(8):\n",
    "    img = eval_data[i].reshape([28,28])\n",
    "    fig.add_subplot(1, 8, i+1)\n",
    "    plt.imshow(img)\n",
    "plt.show()\n",
    "print('labels: ', str(eval_labels[:8]))\n",
    "\n",
    "class_prob = [(p[\"classes\"], p[\"probabilities\"][p[\"classes\"]]) for p in predictions]\n",
    "for cp in class_prob:\n",
    "    print('%7d ' % cp[0], end=\", \")\n",
    "\n",
    "print()\n",
    "for cp in class_prob:\n",
    "    print(' %.4f ' % cp[1], end=\", \")"
   ]
  },
  {
   "cell_type": "code",
   "execution_count": 9,
   "metadata": {},
   "outputs": [
    {
     "name": "stderr",
     "output_type": "stream",
     "text": [
      "/Users/larrysu/.pyenv/versions/p3lab/lib/python3.6/site-packages/scipy/misc/pilutil.py:482: FutureWarning: Conversion of the second argument of issubdtype from `int` to `np.signedinteger` is deprecated. In future, it will be treated as `np.int64 == np.dtype(int).type`.\n",
      "  if issubdtype(ts, int):\n",
      "/Users/larrysu/.pyenv/versions/p3lab/lib/python3.6/site-packages/scipy/misc/pilutil.py:485: FutureWarning: Conversion of the second argument of issubdtype from `float` to `np.floating` is deprecated. In future, it will be treated as `np.float64 == np.dtype(float).type`.\n",
      "  elif issubdtype(type(size), float):\n"
     ]
    }
   ],
   "source": [
    "from scipy.ndimage import imread\n",
    "from scipy.misc import imresize\n",
    "test_imgs = []\n",
    "test_imgs.append(imread('./model/cnn_mnist_180329_112417_gpu/test_samples/a2.jpg'))\n",
    "test_imgs.append(imread('./model/cnn_mnist_180329_112417_gpu/test_samples/a5.jpg'))\n",
    "test_imgs.append(imread('./model/cnn_mnist_180329_112417_gpu/test_samples/a9.jpg'))\n",
    "# img_a2 = imresize(img_a2, size=(28,28))\n",
    "# img_a2 = img_a2 / 255.\n",
    "test_imgs = [imresize(i, size=(28,28))/255. for i in test_imgs]"
   ]
  },
  {
   "cell_type": "code",
   "execution_count": 10,
   "metadata": {},
   "outputs": [
    {
     "name": "stdout",
     "output_type": "stream",
     "text": [
      "(10000, 784)\n",
      "float32\n",
      "(3, 784)\n",
      "float32\n",
      "[[0. 0. 0. ... 0. 0. 0.]\n",
      " [0. 0. 0. ... 0. 0. 0.]\n",
      " [0. 0. 0. ... 0. 0. 0.]]\n"
     ]
    }
   ],
   "source": [
    "test_data = np.asarray(test_imgs, dtype=np.float32).reshape(3, -1)\n",
    "print(eval_data.shape)\n",
    "print(eval_data.dtype)\n",
    "print(test_data.shape)\n",
    "print(test_data.dtype)\n",
    "print(test_data)\n"
   ]
  },
  {
   "cell_type": "code",
   "execution_count": 11,
   "metadata": {},
   "outputs": [
    {
     "name": "stdout",
     "output_type": "stream",
     "text": [
      "(3, 784)\n",
      "3\n"
     ]
    },
    {
     "data": {
      "image/png": "[encoded data removed]",
      "text/plain": [
       "<matplotlib.figure.Figure at 0x1226e7fd0>"
      ]
     },
     "metadata": {},
     "output_type": "display_data"
    },
    {
     "name": "stdout",
     "output_type": "stream",
     "text": [
      "INFO:tensorflow:Calling model_fn.\n",
      "INFO:tensorflow:Done calling model_fn.\n",
      "INFO:tensorflow:Graph was finalized.\n",
      "INFO:tensorflow:Restoring parameters from /Users/larrysu/repos/totem/model/cnn_mnist_180329_112417_gpu/model.ckpt-30000\n",
      "INFO:tensorflow:Running local_init_op.\n",
      "INFO:tensorflow:Done running local_init_op.\n",
      "      2 ,       5 ,       3 , \n",
      " 0.9123 ,  0.8147 ,  0.2664 , "
     ]
    }
   ],
   "source": [
    "# test_data = np.asarray(test_imgs, dtype=np.float16)\n",
    "print(test_data.shape)\n",
    "# print(test_imgs[0])\n",
    "print(len(test_imgs))\n",
    "fig=plt.figure(figsize=(12, 2))\n",
    "for i in range(len(test_imgs)):\n",
    "    img = test_imgs[i]\n",
    "    fig.add_subplot(1, len(test_imgs), i+1)\n",
    "    plt.imshow(img)\n",
    "plt.show()\n",
    "\n",
    "predict_input_fn = tf.estimator.inputs.numpy_input_fn(\n",
    "        x={\"x\": test_data},\n",
    "        num_epochs=1,\n",
    "        shuffle=False)\n",
    "\n",
    "predictions = list(mnist_classifier.predict(input_fn=predict_input_fn))\n",
    "\n",
    "class_prob = [(p[\"classes\"], p[\"probabilities\"][p[\"classes\"]]) for p in predictions]\n",
    "for cp in class_prob:\n",
    "    print('%7d ' % cp[0], end=\", \")\n",
    "\n",
    "print()\n",
    "for cp in class_prob:\n",
    "    print(' %.4f ' % cp[1], end=\", \")"
   ]
  },
  {
   "cell_type": "code",
   "execution_count": 12,
   "metadata": {},
   "outputs": [
    {
     "data": {
      "text/plain": [
       "{'classes': 3,\n",
       " 'probabilities': array([0.0002, 0.2631, 0.0131, 0.2664, 0.0985, 0.0086, 0.0006, 0.0698,\n",
       "        0.2336, 0.0462], dtype=float32)}"
      ]
     },
     "execution_count": 12,
     "metadata": {},
     "output_type": "execute_result"
    }
   ],
   "source": [
    "predictions[2]"
   ]
  }
 ],
 "metadata": {
  "kernelspec": {
   "display_name": "p3lab",
   "language": "python",
   "name": "p3lab"
  },
  "language_info": {
   "codemirror_mode": {
    "name": "ipython",
    "version": 3
   },
   "file_extension": ".py",
   "mimetype": "text/x-python",
   "name": "python",
   "nbconvert_exporter": "python",
   "pygments_lexer": "ipython3",
   "version": "3.6.1"
  }
 },
 "nbformat": 4,
 "nbformat_minor": 2
}
